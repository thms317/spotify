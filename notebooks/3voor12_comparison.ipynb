{
 "cells": [
  {
   "cell_type": "code",
   "execution_count": 1,
   "metadata": {},
   "outputs": [],
   "source": [
    "import spotipy\n",
    "from spotipy.oauth2 import SpotifyClientCredentials\n",
    "\n",
    "from spotify.utils import load_credentials\n",
    "\n",
    "credentials = load_credentials(\"spotify\")\n",
    "client_credentials_manager = SpotifyClientCredentials(\n",
    "    client_id=credentials[\"SPOTIPY_CLIENT_ID\"],\n",
    "    client_secret=credentials[\"SPOTIPY_CLIENT_SECRET\"],\n",
    ")\n",
    "sp = spotipy.Spotify(client_credentials_manager=client_credentials_manager)"
   ]
  },
  {
   "cell_type": "code",
   "execution_count": 2,
   "metadata": {},
   "outputs": [],
   "source": [
    "# 3voor12 top 100 2023\n",
    "first_playlist_uri = \"https://open.spotify.com/playlist/4gjdA4c6B0YB7S5GmgxLEk?si=070cab20524f4ddc\"\n",
    "# Pallen 2023\n",
    "second_playlist_uri = \"https://open.spotify.com/playlist/2flYqzsxSNSIHjCNCphCMw?si=6408cf90576944be\""
   ]
  },
  {
   "cell_type": "code",
   "execution_count": 3,
   "metadata": {},
   "outputs": [
    {
     "name": "stdout",
     "output_type": "stream",
     "text": [
      "Playlist hype (playlist vs. 3voor12 SvhJ 2023): 19.00%\n"
     ]
    }
   ],
   "source": [
    "from spotify.utils import calculate_playlist_overlap\n",
    "\n",
    "playlist_hype = calculate_playlist_overlap(\n",
    "    sp=sp,\n",
    "    first_playlist_uri=first_playlist_uri,\n",
    "    second_playlist_uri=second_playlist_uri,\n",
    ")\n",
    "print(f\"Playlist hype (playlist vs. 3voor12 SvhJ 2023): {playlist_hype:.2f}%\")"
   ]
  },
  {
   "cell_type": "code",
   "execution_count": 4,
   "metadata": {},
   "outputs": [],
   "source": [
    "from spotify.utils import fetch_playlist_tracks\n",
    "\n",
    "tracks = fetch_playlist_tracks(sp=sp, playlist_uri=first_playlist_uri)"
   ]
  },
  {
   "cell_type": "code",
   "execution_count": 6,
   "metadata": {},
   "outputs": [],
   "source": [
    "from spotify.utils import initialize_playlist_stats\n",
    "\n",
    "df_tracks = initialize_playlist_stats(tracks=tracks)"
   ]
  },
  {
   "cell_type": "code",
   "execution_count": 11,
   "metadata": {},
   "outputs": [],
   "source": [
    "from spotify.utils import get_playlist_track_uris\n",
    "\n",
    "track_uris_pallen = get_playlist_track_uris(sp=sp, playlist_uri=second_playlist_uri)"
   ]
  },
  {
   "cell_type": "code",
   "execution_count": 13,
   "metadata": {},
   "outputs": [],
   "source": [
    "df_tracks[\"pallen\"] = df_tracks[\"track_uri\"].isin(track_uris_pallen)"
   ]
  },
  {
   "cell_type": "code",
   "execution_count": 40,
   "metadata": {},
   "outputs": [
    {
     "data": {
      "application/vnd.plotly.v1+json": {
       "config": {
        "plotlyServerURL": "https://plot.ly"
       },
       "data": [
        {
         "customdata": [
          [
           "Als Ik God Was",
           false
          ],
          [
           "Not Strong Enough",
           false
          ],
          [
           "Overcome",
           false
          ],
          [
           "Paradijs",
           false
          ],
          [
           "Het Is Genoeg",
           false
          ],
          [
           "Mooier Als Je Lacht",
           false
          ],
          [
           "Tonight",
           false
          ],
          [
           "Droom Groot",
           false
          ],
          [
           "Leugenaar II",
           false
          ],
          [
           "Welcome to the DCC",
           false
          ],
          [
           "Tropic Morning News",
           false
          ],
          [
           "The Narcissist",
           false
          ],
          [
           "Rush",
           false
          ],
          [
           "vampire",
           false
          ],
          [
           "Ze Is Pas Net Begonnen (Leerstage / Werkstage)",
           false
          ],
          [
           "Back On 74",
           false
          ],
          [
           "Is It Over Now? (Taylor's Version) (From The Vault)",
           false
          ],
          [
           "Dance The Night",
           false
          ],
          [
           "Sunset",
           false
          ],
          [
           "22",
           false
          ],
          [
           "bad idea right?",
           false
          ],
          [
           "Friesenjung",
           false
          ],
          [
           "Je Vader",
           false
          ],
          [
           "Gorilla",
           false
          ],
          [
           "Flowers",
           false
          ],
          [
           "Ghosts Again",
           false
          ],
          [
           "My Love Mine All Mine",
           false
          ],
          [
           "kisses",
           false
          ],
          [
           "Paper Machete",
           false
          ],
          [
           "Vampire Empire",
           false
          ],
          [
           "Als Ik Met De Wind Kon Dansen",
           false
          ],
          [
           "Black Friday",
           false
          ],
          [
           "This Is Why",
           false
          ],
          [
           "(It Goes Like) Nanana",
           false
          ],
          [
           "Break My Heart",
           false
          ],
          [
           "Heaven",
           false
          ],
          [
           "Tell Me More",
           false
          ],
          [
           "So It Goes",
           false
          ],
          [
           "Bending Hectic",
           false
          ],
          [
           "HONEY (ARE U COMING?)",
           false
          ],
          [
           "Dreamers",
           false
          ],
          [
           "Running Backwards Into The Future",
           false
          ],
          [
           "Eat Your Young",
           false
          ],
          [
           "Sweet Sounds Of Heaven (feat. Lady Gaga)",
           false
          ],
          [
           "Dance Dance (Don't Go)",
           false
          ],
          [
           "Doktor Civanım",
           false
          ],
          [
           "Rescued",
           false
          ],
          [
           "Tattoo",
           false
          ],
          [
           "adore u",
           false
          ],
          [
           "Dancer",
           false
          ],
          [
           "Never Had To Know",
           false
          ],
          [
           "Tiger",
           false
          ],
          [
           "Be Yours",
           false
          ],
          [
           "Paint The Town Red",
           false
          ],
          [
           "What You Say?",
           false
          ],
          [
           "Padam Padam",
           false
          ],
          [
           "Ice Cream Man.",
           false
          ],
          [
           "If You’re Gonna Break My Heart",
           false
          ],
          [
           "Zo waren de dagen",
           false
          ],
          [
           "The Morning",
           false
          ],
          [
           "Wish You The Best",
           false
          ],
          [
           "Minus Twenty",
           false
          ],
          [
           "Daylight",
           false
          ],
          [
           "Silent Running (feat. Adeleye Omotayo)",
           false
          ],
          [
           "I Inside the Old I Dying",
           false
          ],
          [
           "Lowlife",
           false
          ],
          [
           "Devote",
           false
          ],
          [
           "JUMP!",
           false
          ],
          [
           "Bells",
           false
          ],
          [
           "Lux Æterna",
           false
          ],
          [
           "Return My Head",
           false
          ],
          [
           "Lost Inside My Head",
           false
          ],
          [
           "Old Summers (feat. philine)",
           false
          ],
          [
           "Carnavoyeur",
           false
          ],
          [
           "Infinity Song",
           false
          ],
          [
           "This World Is Our Home",
           false
          ],
          [
           "daughter",
           false
          ],
          [
           "Te Laat",
           false
          ],
          [
           "your girl",
           false
          ],
          [
           "BARANA",
           false
          ],
          [
           "Loading",
           false
          ]
         ],
         "hovertemplate": "<b>%{hovertext}</b><br><br>index=%{y}<extra></extra>",
         "hovertext": [
          "0: Froukje - Als Ik God Was",
          "3: boygenius, Julien Baker, Phoebe Bridgers, Lucy Dacus - Not Strong Enough",
          "4: Nothing But Thieves - Overcome",
          "5: Spinvis - Paradijs",
          "6: Wende - Het Is Genoeg",
          "7: Sophie Straat - Mooier Als Je Lacht",
          "8: Son Mieux - Tonight",
          "9: Joost - Droom Groot",
          "10: WIES - Leugenaar II",
          "11: Nothing But Thieves - Welcome to the DCC",
          "13: The National - Tropic Morning News",
          "14: Blur - The Narcissist",
          "15: Troye Sivan - Rush",
          "17: Olivia Rodrigo - vampire",
          "18: De Jeugd Van Tegenwoordig - Ze Is Pas Net Begonnen (Leerstage / Werkstage)",
          "19: Jungle - Back On 74",
          "21: Taylor Swift - Is It Over Now? (Taylor's Version) (From The Vault)",
          "22: Dua Lipa - Dance The Night",
          "23: Caroline Polachek - Sunset",
          "24: MEAU - 22",
          "25: Olivia Rodrigo - bad idea right?",
          "26: Ski Aggu, Joost, Otto Waalkes - Friesenjung",
          "27: Elmer - Je Vader",
          "28: Little Simz - Gorilla",
          "29: Miley Cyrus - Flowers",
          "32: Depeche Mode - Ghosts Again",
          "33: Mitski - My Love Mine All Mine",
          "34: Slowdive - kisses",
          "35: Queens of the Stone Age - Paper Machete",
          "36: Big Thief - Vampire Empire",
          "37: Bente - Als Ik Met De Wind Kon Dansen",
          "38: Tom Odell - Black Friday",
          "40: Paramore - This Is Why",
          "41: Peggy Gou - (It Goes Like) Nanana",
          "42: RONDÉ - Break My Heart",
          "43: Niall Horan - Heaven",
          "45: Son Mieux - Tell Me More",
          "49: JOHAN - So It Goes",
          "50: The Smile - Bending Hectic",
          "51: Måneskin - HONEY (ARE U COMING?)",
          "52: Blaudzun - Dreamers",
          "53: De Staat - Running Backwards Into The Future",
          "54: Hozier - Eat Your Young",
          "55: The Rolling Stones, Lady Gaga - Sweet Sounds Of Heaven (feat. Lady Gaga)",
          "56: Luna Morgenstern - Dance Dance (Don't Go)",
          "57: Altin Gün - Doktor Civanım",
          "58: Foo Fighters - Rescued",
          "59: Loreen - Tattoo",
          "61: Fred again.., Obongjayar - adore u",
          "63: IDLES, LCD Soundsystem - Dancer",
          "64: The Vices - Never Had To Know",
          "65: Pip Blom - Tiger",
          "66: The Indien - Be Yours",
          "67: Doja Cat - Paint The Town Red",
          "68: Young Marco - What You Say?",
          "70: Kylie Minogue - Padam Padam",
          "71: RAYE - Ice Cream Man.",
          "73: Inhaler - If You’re Gonna Break My Heart",
          "74: De Toegift - Zo waren de dagen",
          "75: Elephant, Meskerem Mees - The Morning",
          "76: Lewis Capaldi - Wish You The Best",
          "77: Tramhaus - Minus Twenty",
          "78: David Kushner - Daylight",
          "79: Gorillaz, Adeleye Omotayo - Silent Running (feat. Adeleye Omotayo)",
          "80: PJ Harvey - I Inside the Old I Dying",
          "81: YUNGBLUD - Lowlife",
          "82: Pitou - Devote",
          "83: Only The Poets - JUMP!",
          "84: Wodan Boys - Bells",
          "85: Metallica - Lux Æterna",
          "86: The Murder Capital - Return My Head",
          "88: Goldkimono - Lost Inside My Head",
          "89: Melle, philine - Old Summers (feat. philine)",
          "90: Queens of the Stone Age - Carnavoyeur",
          "91: Robin Kester - Infinity Song",
          "93: Douwe Bob - This World Is Our Home",
          "95: Kids With Buns - daughter",
          "96: Elias Mazian - Te Laat",
          "97: néomí - your girl",
          "98: Naaz - BARANA",
          "99: James Blake - Loading"
         ],
         "legendgroup": "False",
         "marker": {
          "color": "#636efa",
          "symbol": "circle"
         },
         "mode": "markers",
         "name": "False",
         "orientation": "v",
         "showlegend": true,
         "type": "scatter",
         "x": [
          0,
          3,
          4,
          5,
          6,
          7,
          8,
          9,
          10,
          11,
          13,
          14,
          15,
          17,
          18,
          19,
          21,
          22,
          23,
          24,
          25,
          26,
          27,
          28,
          29,
          32,
          33,
          34,
          35,
          36,
          37,
          38,
          40,
          41,
          42,
          43,
          45,
          49,
          50,
          51,
          52,
          53,
          54,
          55,
          56,
          57,
          58,
          59,
          61,
          63,
          64,
          65,
          66,
          67,
          68,
          70,
          71,
          73,
          74,
          75,
          76,
          77,
          78,
          79,
          80,
          81,
          82,
          83,
          84,
          85,
          86,
          88,
          89,
          90,
          91,
          93,
          95,
          96,
          97,
          98,
          99
         ],
         "xaxis": "x",
         "y": [
          0,
          3,
          4,
          5,
          6,
          7,
          8,
          9,
          10,
          11,
          13,
          14,
          15,
          17,
          18,
          19,
          21,
          22,
          23,
          24,
          25,
          26,
          27,
          28,
          29,
          32,
          33,
          34,
          35,
          36,
          37,
          38,
          40,
          41,
          42,
          43,
          45,
          49,
          50,
          51,
          52,
          53,
          54,
          55,
          56,
          57,
          58,
          59,
          61,
          63,
          64,
          65,
          66,
          67,
          68,
          70,
          71,
          73,
          74,
          75,
          76,
          77,
          78,
          79,
          80,
          81,
          82,
          83,
          84,
          85,
          86,
          88,
          89,
          90,
          91,
          93,
          95,
          96,
          97,
          98,
          99
         ],
         "yaxis": "y"
        },
        {
         "customdata": [
          [
           "Naar Het Licht",
           true
          ],
          [
           "What Was I Made For? [From The Motion Picture \"Barbie\"]",
           true
          ],
          [
           "Will Anybody Ever Love Me?",
           true
          ],
          [
           "Say Yes To Heaven",
           true
          ],
          [
           "Rommel",
           true
          ],
          [
           "Fairlies",
           true
          ],
          [
           "Nothing Matters",
           true
          ],
          [
           "Land Dat Niet Bestaat",
           true
          ],
          [
           "Kill Bill",
           true
          ],
          [
           "Houdini",
           true
          ],
          [
           "OMG It's Happening",
           true
          ],
          [
           "De Duck",
           true
          ],
          [
           "ENERGIE",
           true
          ],
          [
           "Lost",
           true
          ],
          [
           "Deep End (Paul’s in Pieces)",
           true
          ],
          [
           "Prada",
           true
          ],
          [
           "needy as hell",
           true
          ],
          [
           "Rumble",
           true
          ],
          [
           "Begin Again",
           true
          ]
         ],
         "hovertemplate": "<b>%{hovertext}</b><br><br>index=%{y}<extra></extra>",
         "hovertext": [
          "1: Froukje - Naar Het Licht",
          "2: Billie Eilish - What Was I Made For? [From The Motion Picture \"Barbie\"]",
          "12: Sufjan Stevens - Will Anybody Ever Love Me?",
          "16: Lana Del Rey - Say Yes To Heaven",
          "20: Goldband - Rommel",
          "30: Grian Chatten - Fairlies",
          "31: The Last Dinner Party - Nothing Matters",
          "39: Sef - Land Dat Niet Bestaat",
          "44: SZA - Kill Bill",
          "46: Dua Lipa - Houdini",
          "47: DI-RECT - OMG It's Happening",
          "48: Prins S. en De Geit - De Duck",
          "60: Chibi Ichigo, Sophie Straat - ENERGIE",
          "62: Linkin Park - Lost",
          "69: The National - Deep End (Paul’s in Pieces)",
          "72: cassö, RAYE, D-Block Europe - Prada",
          "87: philine - needy as hell",
          "92: Skrillex, Fred again.., Flowdan - Rumble",
          "94: Jessie Ware - Begin Again"
         ],
         "legendgroup": "True",
         "marker": {
          "color": "#EF553B",
          "symbol": "circle"
         },
         "mode": "markers",
         "name": "True",
         "orientation": "v",
         "showlegend": true,
         "type": "scatter",
         "x": [
          1,
          2,
          12,
          16,
          20,
          30,
          31,
          39,
          44,
          46,
          47,
          48,
          60,
          62,
          69,
          72,
          87,
          92,
          94
         ],
         "xaxis": "x",
         "y": [
          1,
          2,
          12,
          16,
          20,
          30,
          31,
          39,
          44,
          46,
          47,
          48,
          60,
          62,
          69,
          72,
          87,
          92,
          94
         ],
         "yaxis": "y"
        }
       ],
       "layout": {
        "legend": {
         "title": {
          "text": "pallen"
         },
         "tracegroupgap": 0
        },
        "margin": {
         "t": 60
        },
        "showlegend": false,
        "template": {
         "data": {
          "bar": [
           {
            "error_x": {
             "color": "#2a3f5f"
            },
            "error_y": {
             "color": "#2a3f5f"
            },
            "marker": {
             "line": {
              "color": "#E5ECF6",
              "width": 0.5
             },
             "pattern": {
              "fillmode": "overlay",
              "size": 10,
              "solidity": 0.2
             }
            },
            "type": "bar"
           }
          ],
          "barpolar": [
           {
            "marker": {
             "line": {
              "color": "#E5ECF6",
              "width": 0.5
             },
             "pattern": {
              "fillmode": "overlay",
              "size": 10,
              "solidity": 0.2
             }
            },
            "type": "barpolar"
           }
          ],
          "carpet": [
           {
            "aaxis": {
             "endlinecolor": "#2a3f5f",
             "gridcolor": "white",
             "linecolor": "white",
             "minorgridcolor": "white",
             "startlinecolor": "#2a3f5f"
            },
            "baxis": {
             "endlinecolor": "#2a3f5f",
             "gridcolor": "white",
             "linecolor": "white",
             "minorgridcolor": "white",
             "startlinecolor": "#2a3f5f"
            },
            "type": "carpet"
           }
          ],
          "choropleth": [
           {
            "colorbar": {
             "outlinewidth": 0,
             "ticks": ""
            },
            "type": "choropleth"
           }
          ],
          "contour": [
           {
            "colorbar": {
             "outlinewidth": 0,
             "ticks": ""
            },
            "colorscale": [
             [
              0,
              "#0d0887"
             ],
             [
              0.1111111111111111,
              "#46039f"
             ],
             [
              0.2222222222222222,
              "#7201a8"
             ],
             [
              0.3333333333333333,
              "#9c179e"
             ],
             [
              0.4444444444444444,
              "#bd3786"
             ],
             [
              0.5555555555555556,
              "#d8576b"
             ],
             [
              0.6666666666666666,
              "#ed7953"
             ],
             [
              0.7777777777777778,
              "#fb9f3a"
             ],
             [
              0.8888888888888888,
              "#fdca26"
             ],
             [
              1,
              "#f0f921"
             ]
            ],
            "type": "contour"
           }
          ],
          "contourcarpet": [
           {
            "colorbar": {
             "outlinewidth": 0,
             "ticks": ""
            },
            "type": "contourcarpet"
           }
          ],
          "heatmap": [
           {
            "colorbar": {
             "outlinewidth": 0,
             "ticks": ""
            },
            "colorscale": [
             [
              0,
              "#0d0887"
             ],
             [
              0.1111111111111111,
              "#46039f"
             ],
             [
              0.2222222222222222,
              "#7201a8"
             ],
             [
              0.3333333333333333,
              "#9c179e"
             ],
             [
              0.4444444444444444,
              "#bd3786"
             ],
             [
              0.5555555555555556,
              "#d8576b"
             ],
             [
              0.6666666666666666,
              "#ed7953"
             ],
             [
              0.7777777777777778,
              "#fb9f3a"
             ],
             [
              0.8888888888888888,
              "#fdca26"
             ],
             [
              1,
              "#f0f921"
             ]
            ],
            "type": "heatmap"
           }
          ],
          "heatmapgl": [
           {
            "colorbar": {
             "outlinewidth": 0,
             "ticks": ""
            },
            "colorscale": [
             [
              0,
              "#0d0887"
             ],
             [
              0.1111111111111111,
              "#46039f"
             ],
             [
              0.2222222222222222,
              "#7201a8"
             ],
             [
              0.3333333333333333,
              "#9c179e"
             ],
             [
              0.4444444444444444,
              "#bd3786"
             ],
             [
              0.5555555555555556,
              "#d8576b"
             ],
             [
              0.6666666666666666,
              "#ed7953"
             ],
             [
              0.7777777777777778,
              "#fb9f3a"
             ],
             [
              0.8888888888888888,
              "#fdca26"
             ],
             [
              1,
              "#f0f921"
             ]
            ],
            "type": "heatmapgl"
           }
          ],
          "histogram": [
           {
            "marker": {
             "pattern": {
              "fillmode": "overlay",
              "size": 10,
              "solidity": 0.2
             }
            },
            "type": "histogram"
           }
          ],
          "histogram2d": [
           {
            "colorbar": {
             "outlinewidth": 0,
             "ticks": ""
            },
            "colorscale": [
             [
              0,
              "#0d0887"
             ],
             [
              0.1111111111111111,
              "#46039f"
             ],
             [
              0.2222222222222222,
              "#7201a8"
             ],
             [
              0.3333333333333333,
              "#9c179e"
             ],
             [
              0.4444444444444444,
              "#bd3786"
             ],
             [
              0.5555555555555556,
              "#d8576b"
             ],
             [
              0.6666666666666666,
              "#ed7953"
             ],
             [
              0.7777777777777778,
              "#fb9f3a"
             ],
             [
              0.8888888888888888,
              "#fdca26"
             ],
             [
              1,
              "#f0f921"
             ]
            ],
            "type": "histogram2d"
           }
          ],
          "histogram2dcontour": [
           {
            "colorbar": {
             "outlinewidth": 0,
             "ticks": ""
            },
            "colorscale": [
             [
              0,
              "#0d0887"
             ],
             [
              0.1111111111111111,
              "#46039f"
             ],
             [
              0.2222222222222222,
              "#7201a8"
             ],
             [
              0.3333333333333333,
              "#9c179e"
             ],
             [
              0.4444444444444444,
              "#bd3786"
             ],
             [
              0.5555555555555556,
              "#d8576b"
             ],
             [
              0.6666666666666666,
              "#ed7953"
             ],
             [
              0.7777777777777778,
              "#fb9f3a"
             ],
             [
              0.8888888888888888,
              "#fdca26"
             ],
             [
              1,
              "#f0f921"
             ]
            ],
            "type": "histogram2dcontour"
           }
          ],
          "mesh3d": [
           {
            "colorbar": {
             "outlinewidth": 0,
             "ticks": ""
            },
            "type": "mesh3d"
           }
          ],
          "parcoords": [
           {
            "line": {
             "colorbar": {
              "outlinewidth": 0,
              "ticks": ""
             }
            },
            "type": "parcoords"
           }
          ],
          "pie": [
           {
            "automargin": true,
            "type": "pie"
           }
          ],
          "scatter": [
           {
            "fillpattern": {
             "fillmode": "overlay",
             "size": 10,
             "solidity": 0.2
            },
            "type": "scatter"
           }
          ],
          "scatter3d": [
           {
            "line": {
             "colorbar": {
              "outlinewidth": 0,
              "ticks": ""
             }
            },
            "marker": {
             "colorbar": {
              "outlinewidth": 0,
              "ticks": ""
             }
            },
            "type": "scatter3d"
           }
          ],
          "scattercarpet": [
           {
            "marker": {
             "colorbar": {
              "outlinewidth": 0,
              "ticks": ""
             }
            },
            "type": "scattercarpet"
           }
          ],
          "scattergeo": [
           {
            "marker": {
             "colorbar": {
              "outlinewidth": 0,
              "ticks": ""
             }
            },
            "type": "scattergeo"
           }
          ],
          "scattergl": [
           {
            "marker": {
             "colorbar": {
              "outlinewidth": 0,
              "ticks": ""
             }
            },
            "type": "scattergl"
           }
          ],
          "scattermapbox": [
           {
            "marker": {
             "colorbar": {
              "outlinewidth": 0,
              "ticks": ""
             }
            },
            "type": "scattermapbox"
           }
          ],
          "scatterpolar": [
           {
            "marker": {
             "colorbar": {
              "outlinewidth": 0,
              "ticks": ""
             }
            },
            "type": "scatterpolar"
           }
          ],
          "scatterpolargl": [
           {
            "marker": {
             "colorbar": {
              "outlinewidth": 0,
              "ticks": ""
             }
            },
            "type": "scatterpolargl"
           }
          ],
          "scatterternary": [
           {
            "marker": {
             "colorbar": {
              "outlinewidth": 0,
              "ticks": ""
             }
            },
            "type": "scatterternary"
           }
          ],
          "surface": [
           {
            "colorbar": {
             "outlinewidth": 0,
             "ticks": ""
            },
            "colorscale": [
             [
              0,
              "#0d0887"
             ],
             [
              0.1111111111111111,
              "#46039f"
             ],
             [
              0.2222222222222222,
              "#7201a8"
             ],
             [
              0.3333333333333333,
              "#9c179e"
             ],
             [
              0.4444444444444444,
              "#bd3786"
             ],
             [
              0.5555555555555556,
              "#d8576b"
             ],
             [
              0.6666666666666666,
              "#ed7953"
             ],
             [
              0.7777777777777778,
              "#fb9f3a"
             ],
             [
              0.8888888888888888,
              "#fdca26"
             ],
             [
              1,
              "#f0f921"
             ]
            ],
            "type": "surface"
           }
          ],
          "table": [
           {
            "cells": {
             "fill": {
              "color": "#EBF0F8"
             },
             "line": {
              "color": "white"
             }
            },
            "header": {
             "fill": {
              "color": "#C8D4E3"
             },
             "line": {
              "color": "white"
             }
            },
            "type": "table"
           }
          ]
         },
         "layout": {
          "annotationdefaults": {
           "arrowcolor": "#2a3f5f",
           "arrowhead": 0,
           "arrowwidth": 1
          },
          "autotypenumbers": "strict",
          "coloraxis": {
           "colorbar": {
            "outlinewidth": 0,
            "ticks": ""
           }
          },
          "colorscale": {
           "diverging": [
            [
             0,
             "#8e0152"
            ],
            [
             0.1,
             "#c51b7d"
            ],
            [
             0.2,
             "#de77ae"
            ],
            [
             0.3,
             "#f1b6da"
            ],
            [
             0.4,
             "#fde0ef"
            ],
            [
             0.5,
             "#f7f7f7"
            ],
            [
             0.6,
             "#e6f5d0"
            ],
            [
             0.7,
             "#b8e186"
            ],
            [
             0.8,
             "#7fbc41"
            ],
            [
             0.9,
             "#4d9221"
            ],
            [
             1,
             "#276419"
            ]
           ],
           "sequential": [
            [
             0,
             "#0d0887"
            ],
            [
             0.1111111111111111,
             "#46039f"
            ],
            [
             0.2222222222222222,
             "#7201a8"
            ],
            [
             0.3333333333333333,
             "#9c179e"
            ],
            [
             0.4444444444444444,
             "#bd3786"
            ],
            [
             0.5555555555555556,
             "#d8576b"
            ],
            [
             0.6666666666666666,
             "#ed7953"
            ],
            [
             0.7777777777777778,
             "#fb9f3a"
            ],
            [
             0.8888888888888888,
             "#fdca26"
            ],
            [
             1,
             "#f0f921"
            ]
           ],
           "sequentialminus": [
            [
             0,
             "#0d0887"
            ],
            [
             0.1111111111111111,
             "#46039f"
            ],
            [
             0.2222222222222222,
             "#7201a8"
            ],
            [
             0.3333333333333333,
             "#9c179e"
            ],
            [
             0.4444444444444444,
             "#bd3786"
            ],
            [
             0.5555555555555556,
             "#d8576b"
            ],
            [
             0.6666666666666666,
             "#ed7953"
            ],
            [
             0.7777777777777778,
             "#fb9f3a"
            ],
            [
             0.8888888888888888,
             "#fdca26"
            ],
            [
             1,
             "#f0f921"
            ]
           ]
          },
          "colorway": [
           "#636efa",
           "#EF553B",
           "#00cc96",
           "#ab63fa",
           "#FFA15A",
           "#19d3f3",
           "#FF6692",
           "#B6E880",
           "#FF97FF",
           "#FECB52"
          ],
          "font": {
           "color": "#2a3f5f"
          },
          "geo": {
           "bgcolor": "white",
           "lakecolor": "white",
           "landcolor": "#E5ECF6",
           "showlakes": true,
           "showland": true,
           "subunitcolor": "white"
          },
          "hoverlabel": {
           "align": "left"
          },
          "hovermode": "closest",
          "mapbox": {
           "style": "light"
          },
          "paper_bgcolor": "white",
          "plot_bgcolor": "#E5ECF6",
          "polar": {
           "angularaxis": {
            "gridcolor": "white",
            "linecolor": "white",
            "ticks": ""
           },
           "bgcolor": "#E5ECF6",
           "radialaxis": {
            "gridcolor": "white",
            "linecolor": "white",
            "ticks": ""
           }
          },
          "scene": {
           "xaxis": {
            "backgroundcolor": "#E5ECF6",
            "gridcolor": "white",
            "gridwidth": 2,
            "linecolor": "white",
            "showbackground": true,
            "ticks": "",
            "zerolinecolor": "white"
           },
           "yaxis": {
            "backgroundcolor": "#E5ECF6",
            "gridcolor": "white",
            "gridwidth": 2,
            "linecolor": "white",
            "showbackground": true,
            "ticks": "",
            "zerolinecolor": "white"
           },
           "zaxis": {
            "backgroundcolor": "#E5ECF6",
            "gridcolor": "white",
            "gridwidth": 2,
            "linecolor": "white",
            "showbackground": true,
            "ticks": "",
            "zerolinecolor": "white"
           }
          },
          "shapedefaults": {
           "line": {
            "color": "#2a3f5f"
           }
          },
          "ternary": {
           "aaxis": {
            "gridcolor": "white",
            "linecolor": "white",
            "ticks": ""
           },
           "baxis": {
            "gridcolor": "white",
            "linecolor": "white",
            "ticks": ""
           },
           "bgcolor": "#E5ECF6",
           "caxis": {
            "gridcolor": "white",
            "linecolor": "white",
            "ticks": ""
           }
          },
          "title": {
           "x": 0.05
          },
          "xaxis": {
           "automargin": true,
           "gridcolor": "white",
           "linecolor": "white",
           "ticks": "",
           "title": {
            "standoff": 15
           },
           "zerolinecolor": "white",
           "zerolinewidth": 2
          },
          "yaxis": {
           "automargin": true,
           "gridcolor": "white",
           "linecolor": "white",
           "ticks": "",
           "title": {
            "standoff": 15
           },
           "zerolinecolor": "white",
           "zerolinewidth": 2
          }
         }
        },
        "xaxis": {
         "anchor": "y",
         "domain": [
          0,
          1
         ],
         "showticklabels": true,
         "title": {
          "text": "index"
         }
        },
        "yaxis": {
         "anchor": "x",
         "domain": [
          0,
          1
         ],
         "title": {
          "text": "index"
         }
        }
       }
      }
     },
     "metadata": {},
     "output_type": "display_data"
    }
   ],
   "source": [
    "import plotly.express as px\n",
    "\n",
    "df_tracks[\"label\"] = df_tracks[\"artist\"] + \" - \" + df_tracks[\"name\"]\n",
    "df_tracks[\"hover_text\"] = df_tracks.index.astype(str) + \": \" + df_tracks[\"label\"]\n",
    "\n",
    "fig = px.scatter(\n",
    "    df_tracks,\n",
    "    x=df_tracks.index,\n",
    "    y=df_tracks.index,\n",
    "    color=\"pallen\",\n",
    "    hover_name=\"hover_text\",  # Use custom hover text\n",
    "    hover_data={  # Hide other hover info\n",
    "        \"name\": False,\n",
    "        \"pallen\": False,\n",
    "        df_tracks.index.name: False,  # Hide index name if it has one\n",
    "    },\n",
    ")\n",
    "\n",
    "# Update layout to remove x-axis labels\n",
    "fig.update_xaxes(showticklabels=True)\n",
    "fig.update_layout(showlegend=False)\n",
    "\n",
    "fig.show()"
   ]
  },
  {
   "cell_type": "code",
   "execution_count": null,
   "metadata": {},
   "outputs": [],
   "source": []
  }
 ],
 "metadata": {
  "kernelspec": {
   "display_name": ".venv",
   "language": "python",
   "name": "python3"
  },
  "language_info": {
   "codemirror_mode": {
    "name": "ipython",
    "version": 3
   },
   "file_extension": ".py",
   "mimetype": "text/x-python",
   "name": "python",
   "nbconvert_exporter": "python",
   "pygments_lexer": "ipython3",
   "version": "3.11.3"
  }
 },
 "nbformat": 4,
 "nbformat_minor": 2
}
